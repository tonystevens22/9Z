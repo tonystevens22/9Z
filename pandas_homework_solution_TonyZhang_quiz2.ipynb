{
 "cells": [
  {
   "cell_type": "code",
   "execution_count": 2,
   "metadata": {},
   "outputs": [],
   "source": [
    "#JiuZhang email address: tonywdzyj@gmail.com\n",
    "import numpy as np\n",
    "import pandas as pd"
   ]
  },
  {
   "cell_type": "code",
   "execution_count": 3,
   "metadata": {},
   "outputs": [],
   "source": [
    "df = pd.read_csv(\"../course_files/round1_ijcai_18_train_20180301.txt\", delim_whitespace=True)"
   ]
  },
  {
   "cell_type": "code",
   "execution_count": 4,
   "metadata": {},
   "outputs": [],
   "source": [
    "df['context_datetime'] = pd.to_datetime(df['context_timestamp'], unit='s')"
   ]
  },
  {
   "cell_type": "code",
   "execution_count": 5,
   "metadata": {},
   "outputs": [],
   "source": [
    "df['context_datetime'] = df['context_datetime'].dt.strftime(date_format=\"%Y-%m-%d\")"
   ]
  },
  {
   "cell_type": "code",
   "execution_count": 6,
   "metadata": {},
   "outputs": [],
   "source": [
    "item_id_context_datetime_group = df.groupby(['item_id','context_datetime']) #DataFrameGroupBy"
   ]
  },
  {
   "cell_type": "code",
   "execution_count": 62,
   "metadata": {},
   "outputs": [],
   "source": [
    "item_id_context_datetime_count = item_id_context_datetime_group.count()\n",
    "item_id_context_date_time_sum = item_id_context_datetime_group.sum()"
   ]
  },
  {
   "cell_type": "code",
   "execution_count": 70,
   "metadata": {},
   "outputs": [],
   "source": [
    "item_id_count = item_id_context_datetime_count.groupby('item_id').count()['is_trade'] #Series"
   ]
  },
  {
   "cell_type": "code",
   "execution_count": 87,
   "metadata": {},
   "outputs": [],
   "source": [
    "results = pd.Series()\n",
    "count = 0\n",
    "for item in item_id_count:\n",
    "    start, end = count, count + item\n",
    "    total_click = item_id_context_datetime_count.iloc[start:end,:]['is_trade'].rolling(3, min_periods=1).sum()\n",
    "    total_trade = item_id_context_date_time_sum.iloc[start:end,:]['is_trade'].rolling(3, min_periods=1).sum()\n",
    "    if (results.empty):\n",
    "        results = total_trade / total_click\n",
    "    else:\n",
    "        results = pd.concat([results, total_trade / total_click], axis = 0)\n",
    "    count += item"
   ]
  },
  {
   "cell_type": "code",
   "execution_count": 88,
   "metadata": {},
   "outputs": [
    {
     "data": {
      "text/plain": [
       "item_id              context_datetime\n",
       "696490723789804      2018-09-18          0.000000\n",
       "                     2018-09-19          0.000000\n",
       "                     2018-09-20          0.000000\n",
       "                     2018-09-21          0.250000\n",
       "                     2018-09-22          0.142857\n",
       "                     2018-09-23          0.125000\n",
       "                     2018-09-24          0.000000\n",
       "1097631460775571     2018-09-18          0.000000\n",
       "                     2018-09-19          0.000000\n",
       "                     2018-09-20          0.000000\n",
       "                     2018-09-21          0.000000\n",
       "                     2018-09-22          0.000000\n",
       "                     2018-09-23          0.034483\n",
       "                     2018-09-24          0.043478\n",
       "1637165183538885     2018-09-17          0.000000\n",
       "                     2018-09-18          0.000000\n",
       "                     2018-09-19          0.000000\n",
       "                     2018-09-20          0.000000\n",
       "                     2018-09-21          0.000000\n",
       "                     2018-09-22          0.000000\n",
       "                     2018-09-23          0.000000\n",
       "                     2018-09-24          0.000000\n",
       "3341342041473146     2018-09-21          0.000000\n",
       "4055398786868336     2018-09-24          0.000000\n",
       "4255654217639344     2018-09-21          0.000000\n",
       "                     2018-09-22          0.000000\n",
       "                     2018-09-23          0.000000\n",
       "                     2018-09-24          0.000000\n",
       "6536469184064787     2018-09-24          0.000000\n",
       "7683654146703952     2018-09-20          0.000000\n",
       "                                           ...   \n",
       "9215636762435381989  2018-09-22          0.009259\n",
       "                     2018-09-23          0.009174\n",
       "                     2018-09-24          0.000000\n",
       "9216016878570797823  2018-09-18          0.000000\n",
       "                     2018-09-21          0.000000\n",
       "9217274889746651030  2018-09-18          0.000000\n",
       "                     2018-09-19          0.000000\n",
       "                     2018-09-20          0.000000\n",
       "                     2018-09-22          0.000000\n",
       "9218004889663496293  2018-09-18          0.000000\n",
       "                     2018-09-19          0.000000\n",
       "                     2018-09-20          0.000000\n",
       "                     2018-09-21          0.000000\n",
       "                     2018-09-22          0.000000\n",
       "                     2018-09-23          0.000000\n",
       "                     2018-09-24          0.000000\n",
       "9218929913109275705  2018-09-23          0.000000\n",
       "                     2018-09-24          0.000000\n",
       "9219843203301952288  2018-09-17          0.000000\n",
       "                     2018-09-20          0.000000\n",
       "9219876905033902237  2018-09-18          0.000000\n",
       "9220878784442194662  2018-09-17          0.000000\n",
       "                     2018-09-24          0.000000\n",
       "9221980390610989984  2018-09-18          0.000000\n",
       "                     2018-09-19          0.000000\n",
       "                     2018-09-20          0.022222\n",
       "                     2018-09-21          0.040000\n",
       "                     2018-09-22          0.068966\n",
       "                     2018-09-23          0.065789\n",
       "                     2018-09-24          0.083333\n",
       "Name: is_trade, Length: 41481, dtype: float64"
      ]
     },
     "execution_count": 88,
     "metadata": {},
     "output_type": "execute_result"
    }
   ],
   "source": [
    "results"
   ]
  }
 ],
 "metadata": {
  "kernelspec": {
   "display_name": "Python 3",
   "language": "python",
   "name": "python3"
  },
  "language_info": {
   "codemirror_mode": {
    "name": "ipython",
    "version": 3
   },
   "file_extension": ".py",
   "mimetype": "text/x-python",
   "name": "python",
   "nbconvert_exporter": "python",
   "pygments_lexer": "ipython3",
   "version": "3.6.4"
  }
 },
 "nbformat": 4,
 "nbformat_minor": 2
}
