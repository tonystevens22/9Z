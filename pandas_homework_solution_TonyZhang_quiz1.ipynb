{
 "cells": [
  {
   "cell_type": "code",
   "execution_count": 37,
   "metadata": {},
   "outputs": [],
   "source": [
    "#JiuZhang email address: tonywdzyj@gmail.com\n",
    "import numpy as np\n",
    "import pandas as pd"
   ]
  },
  {
   "cell_type": "code",
   "execution_count": 38,
   "metadata": {},
   "outputs": [],
   "source": [
    "df = pd.read_csv(\"../course_files/round1_ijcai_18_train_20180301.txt\", delim_whitespace=True)"
   ]
  },
  {
   "cell_type": "code",
   "execution_count": 41,
   "metadata": {},
   "outputs": [],
   "source": [
    "pearson_corr_df = df.corr(method='pearson', min_periods=1)\n",
    "kendall_corr_df = df.corr(method='kendall', min_periods=1)\n",
    "spearman_corr_df = df.corr(method='spearman', min_periods=1)"
   ]
  },
  {
   "cell_type": "code",
   "execution_count": 42,
   "metadata": {},
   "outputs": [
    {
     "data": {
      "text/plain": [
       "instance_id                 -0.002159\n",
       "item_id                     -0.000167\n",
       "item_brand_id               -0.005289\n",
       "item_city_id                -0.020610\n",
       "item_price_level            -0.048932\n",
       "item_sales_level             0.038224\n",
       "item_collected_level         0.013183\n",
       "item_pv_level                0.004697\n",
       "user_id                      0.000251\n",
       "user_gender_id               0.009539\n",
       "user_age_level               0.018202\n",
       "user_occupation_id          -0.005807\n",
       "user_star_level              0.006278\n",
       "context_id                  -0.003459\n",
       "context_timestamp           -0.010116\n",
       "context_page_id             -0.009351\n",
       "shop_id                     -0.003471\n",
       "shop_review_num_level        0.000567\n",
       "shop_review_positive_rate   -0.020458\n",
       "shop_star_level              0.000586\n",
       "shop_score_service          -0.036845\n",
       "shop_score_delivery         -0.038342\n",
       "shop_score_description      -0.026791\n",
       "is_trade                     1.000000\n",
       "Name: is_trade, dtype: float64"
      ]
     },
     "execution_count": 42,
     "metadata": {},
     "output_type": "execute_result"
    }
   ],
   "source": [
    "spearman_corr_df['is_trade']"
   ]
  },
  {
   "cell_type": "code",
   "execution_count": 43,
   "metadata": {},
   "outputs": [
    {
     "data": {
      "text/plain": [
       "is_trade                1.000000\n",
       "item_sales_level        0.038224\n",
       "user_age_level          0.018202\n",
       "item_collected_level    0.013183\n",
       "Name: is_trade, dtype: float64"
      ]
     },
     "execution_count": 43,
     "metadata": {},
     "output_type": "execute_result"
    }
   ],
   "source": [
    "spearman_corr_df.nlargest(4,'is_trade')['is_trade']"
   ]
  },
  {
   "cell_type": "code",
   "execution_count": 62,
   "metadata": {},
   "outputs": [
    {
     "data": {
      "text/plain": [
       "is_trade                     1.000000\n",
       "item_price_level             0.055895\n",
       "item_sales_level             0.037358\n",
       "shop_review_positive_rate    0.017355\n",
       "Name: is_trade, dtype: float64"
      ]
     },
     "execution_count": 62,
     "metadata": {},
     "output_type": "execute_result"
    }
   ],
   "source": [
    "pearson_corr_df['is_trade'].abs().sort_values(ascending=False).head(4)"
   ]
  },
  {
   "cell_type": "code",
   "execution_count": 63,
   "metadata": {},
   "outputs": [
    {
     "data": {
      "text/plain": [
       "is_trade               1.000000\n",
       "item_price_level       0.044955\n",
       "item_sales_level       0.032948\n",
       "shop_score_delivery    0.031313\n",
       "Name: is_trade, dtype: float64"
      ]
     },
     "execution_count": 63,
     "metadata": {},
     "output_type": "execute_result"
    }
   ],
   "source": [
    "kendall_corr_df['is_trade'].abs().sort_values(ascending=False).head(4)"
   ]
  },
  {
   "cell_type": "code",
   "execution_count": 60,
   "metadata": {},
   "outputs": [
    {
     "data": {
      "text/plain": [
       "is_trade                     1.000000\n",
       "item_price_level             0.055895\n",
       "item_sales_level             0.037358\n",
       "shop_review_positive_rate    0.017355\n",
       "Name: is_trade, dtype: float64"
      ]
     },
     "execution_count": 60,
     "metadata": {},
     "output_type": "execute_result"
    }
   ],
   "source": [
    "pearson_corr_df['is_trade'].abs().sort_values(ascending=False).head(4)"
   ]
  },
  {
   "cell_type": "code",
   "execution_count": 61,
   "metadata": {},
   "outputs": [
    {
     "name": "stdout",
     "output_type": "stream",
     "text": [
      "与 is_trade 相关性最高的前3个字段: item_price_level, item_sales_level, shop_review_positive_rate\n"
     ]
    }
   ],
   "source": [
    "print('与 is_trade 相关性最高的前3个字段: item_price_level, item_sales_level, shop_review_positive_rate')"
   ]
  }
 ],
 "metadata": {
  "kernelspec": {
   "display_name": "Python 3",
   "language": "python",
   "name": "python3"
  },
  "language_info": {
   "codemirror_mode": {
    "name": "ipython",
    "version": 3
   },
   "file_extension": ".py",
   "mimetype": "text/x-python",
   "name": "python",
   "nbconvert_exporter": "python",
   "pygments_lexer": "ipython3",
   "version": "3.6.4"
  }
 },
 "nbformat": 4,
 "nbformat_minor": 2
}
